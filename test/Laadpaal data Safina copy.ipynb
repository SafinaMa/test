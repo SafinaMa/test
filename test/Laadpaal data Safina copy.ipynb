{
 "cells": [
  {
   "cell_type": "code",
   "execution_count": 98,
   "id": "3715d1f7",
   "metadata": {},
   "outputs": [],
   "source": [
    "import pandas as pd\n",
    "import seaborn as sns\n",
    "import matplotlib.pyplot as plt\n",
    "import numpy as np"
   ]
  },
  {
   "cell_type": "code",
   "execution_count": 99,
   "id": "5ab47e5b",
   "metadata": {},
   "outputs": [],
   "source": [
    "df= pd.read_csv('laadpaaldata.csv')"
   ]
  },
  {
   "cell_type": "code",
   "execution_count": null,
   "id": "84d9984a",
   "metadata": {},
   "outputs": [],
   "source": [
    "df"
   ]
  },
  {
   "cell_type": "code",
   "execution_count": null,
   "id": "a8c060ea",
   "metadata": {},
   "outputs": [],
   "source": [
    "missing_values = df.isnull().sum()\n",
    "summary_stats = df.describe()\n",
    "missing_values, summary_stats"
   ]
  },
  {
   "cell_type": "code",
   "execution_count": 100,
   "id": "e6e510f8",
   "metadata": {},
   "outputs": [
    {
     "name": "stdout",
     "output_type": "stream",
     "text": [
      "                  Started               Ended            Duration  \\\n",
      "0     2018-01-01 08:45:26 2018-01-01 09:16:45     0 days 00:31:19   \n",
      "1     2018-01-01 11:26:40 2018-01-01 14:36:13     0 days 03:09:33   \n",
      "2     2018-01-01 12:39:28 2018-01-01 20:58:10     0 days 08:18:42   \n",
      "3     2018-01-01 14:26:58 2018-01-02 06:36:55     0 days 16:09:57   \n",
      "4     2018-01-01 14:50:05 2018-01-01 17:21:50     0 days 02:31:45   \n",
      "...                   ...                 ...                 ...   \n",
      "10183 2018-12-31 16:25:27 2018-01-01 10:32:33 -365 days +18:07:06   \n",
      "10184 2018-12-31 16:54:19 2018-12-31 18:33:33     0 days 01:39:14   \n",
      "10185 2018-12-31 18:29:44 2018-01-01 11:14:15 -365 days +16:44:31   \n",
      "10186 2018-12-31 18:35:38 2018-12-31 22:08:37     0 days 03:32:59   \n",
      "10187 2018-12-31 19:34:55 2018-01-01 00:46:04 -365 days +05:11:09   \n",
      "\n",
      "       TotalEnergy  ConnectedTime  ChargeTime  MaxPower  \n",
      "0             1830        0.52190     0.52190      3524  \n",
      "1            28641        3.15920     2.30560     13680  \n",
      "2            65534        8.31170     8.31170     11200  \n",
      "3            10080       16.16580     4.30060      3360  \n",
      "4             7180        2.52920     2.06560      3758  \n",
      "...            ...            ...         ...       ...  \n",
      "10183         4300       18.11830     2.32583      3400  \n",
      "10184         5880        1.65390     1.65390      3572  \n",
      "10185        22020       16.74000     5.75000      4560  \n",
      "10186         6939        3.54970     3.25890      3277  \n",
      "10187         8713        5.18583     3.00056      3096  \n",
      "\n",
      "[10188 rows x 7 columns]\n"
     ]
    }
   ],
   "source": [
    "df['Started'] = df['Started'].apply(lambda x: pd.to_datetime(x, errors='coerce'))\n",
    "df['Ended'] = df['Ended'].apply(lambda x: pd.to_datetime(x, errors='coerce'))\n",
    "df['Duration'] = df['Ended'] - df['Started']\n",
    "df = df[['Started', 'Ended', 'Duration', 'TotalEnergy', 'ConnectedTime', 'ChargeTime', 'MaxPower']]\n",
    "print(df)"
   ]
  },
  {
   "cell_type": "code",
   "execution_count": 101,
   "id": "addf1993",
   "metadata": {},
   "outputs": [],
   "source": [
    "df['Started'] = pd.to_datetime(df['Started'])\n",
    "df['Start_Date'] = df['Started'].dt.date\n",
    "df['Start_Time'] = df['Started'].dt.time\n",
    "df.drop('Started', axis=1, inplace=True)"
   ]
  },
  {
   "cell_type": "code",
   "execution_count": 102,
   "id": "013b5847",
   "metadata": {},
   "outputs": [
    {
     "data": {
      "image/png": "[encoded data removed]",
      "text/plain": [
       "<Figure size 640x480 with 1 Axes>"
      ]
     },
     "metadata": {},
     "output_type": "display_data"
    }
   ],
   "source": [
    "df['Start_Date'] = pd.to_datetime(df['Start_Date'])\n",
    "average_occupancy_per_month = df.groupby(df['Start_Date'].dt.month)['ConnectedTime'].mean()\n",
    "average_occupancy_per_month.plot(kind='bar')\n",
    "plt.xlabel('Month')\n",
    "plt.ylabel('Average Occupancy (hours)')\n",
    "plt.title('Average Charging Station Occupancy per Month')\n",
    "plt.xticks(rotation=0)\n",
    "plt.show()"
   ]
  },
  {
   "cell_type": "code",
   "execution_count": null,
   "id": "32905a80",
   "metadata": {},
   "outputs": [],
   "source": [
    "df['Ended'] = pd.to_datetime(df['Ended'])\n",
    "df['End_Date'] = df['Ended'].dt.date\n",
    "df['End_Time'] = df['Ended'].dt.time\n",
    "df.drop('Ended', axis=1, inplace=True)"
   ]
  },
  {
   "cell_type": "code",
   "execution_count": null,
   "id": "33e6ab5e",
   "metadata": {},
   "outputs": [],
   "source": [
    "df = df[['Start_Date', 'Start_Time', 'End_Date', 'End_Time','Duration', 'TotalEnergy', 'ConnectedTime', 'ChargeTime', 'MaxPower']]"
   ]
  },
  {
   "cell_type": "code",
   "execution_count": null,
   "id": "96f26e7c",
   "metadata": {},
   "outputs": [],
   "source": [
    "df"
   ]
  },
  {
   "cell_type": "code",
   "execution_count": null,
   "id": "3d750c02",
   "metadata": {},
   "outputs": [],
   "source": [
    "df['Duration'] = pd.to_timedelta(df['Duration'])\n",
    "def replace_negative_duration(duration):\n",
    "    if duration < pd.Timedelta(0):\n",
    "        return pd.NaT \n",
    "    return duration\n",
    "\n",
    "df['Duration'] = df['Duration'].apply(replace_negative_duration)"
   ]
  },
  {
   "cell_type": "code",
   "execution_count": null,
   "id": "f0f1b277",
   "metadata": {},
   "outputs": [],
   "source": [
    "df['OccupationTime'] = df['ConnectedTime'] - df['ChargeTime']\n",
    "df['Event'] = ['Occupied' if x > 0 else 'Charging' for x in df['OccupationTime']]\n",
    "print(df.head())"
   ]
  },
  {
   "cell_type": "code",
   "execution_count": null,
   "id": "d77532fa",
   "metadata": {},
   "outputs": [],
   "source": [
    "df"
   ]
  },
  {
   "cell_type": "code",
   "execution_count": null,
   "id": "7c795efd",
   "metadata": {},
   "outputs": [],
   "source": [
    "df.TotalEnergy.hist()"
   ]
  },
  {
   "cell_type": "code",
   "execution_count": null,
   "id": "3eca97fa",
   "metadata": {},
   "outputs": [],
   "source": [
    "df.MaxPower.hist()"
   ]
  },
  {
   "cell_type": "code",
   "execution_count": null,
   "id": "b1cc3792",
   "metadata": {},
   "outputs": [],
   "source": [
    "df.ChargeTime.hist()"
   ]
  },
  {
   "cell_type": "code",
   "execution_count": null,
   "id": "8e472798",
   "metadata": {},
   "outputs": [],
   "source": [
    "df.ConnectedTime.hist()"
   ]
  },
  {
   "cell_type": "code",
   "execution_count": null,
   "id": "2e17364c",
   "metadata": {},
   "outputs": [],
   "source": [
    "power_ranges = [0, 2000, 4000, 6000, 8000, 10000, float('inf')]\n",
    "bin_labels = ['0-2000', '2000-4000', '4000-6000', '6000-8000', '8000-10000', '10000+']\n",
    "df['PowerRange'] = pd.cut(df['MaxPower'], bins=power_ranges, labels=bin_labels, right=False)\n",
    "station_counts = df['PowerRange'].value_counts().sort_index()\n",
    "plt.figure(figsize=(10, 6))\n",
    "plt.bar(station_counts.index, station_counts.values)\n",
    "plt.xlabel('Power Range (Watts)')\n",
    "plt.ylabel('Number of Charging Stations')\n",
    "plt.title('Number of Charging Stations in Different Power Ranges')\n",
    "plt.xticks(rotation=45)\n",
    "plt.grid(axis='y')\n",
    "plt.show()"
   ]
  },
  {
   "cell_type": "code",
   "execution_count": null,
   "id": "c6c6e1df",
   "metadata": {},
   "outputs": [],
   "source": [
    "average_total_energy = df['TotalEnergy'].mean()\n",
    "average_connected_time = df['ConnectedTime'].mean()\n",
    "average_charge_time = df['ChargeTime'].mean()\n",
    "average_max_power = df['MaxPower'].mean()\n",
    "\n",
    "print(\"Average Total Energy:\", average_total_energy)\n",
    "print(\"Average Connected Time:\", average_connected_time)\n",
    "print(\"Average Charge Time:\", average_charge_time)\n",
    "print(\"Average Max Power:\", average_max_power)"
   ]
  },
  {
   "cell_type": "code",
   "execution_count": null,
   "id": "383897d1",
   "metadata": {},
   "outputs": [],
   "source": [
    "asset_distribution = df['Event'].value_counts()\n",
    "print(asset_distribution)"
   ]
  },
  {
   "cell_type": "code",
   "execution_count": null,
   "id": "50af4e51",
   "metadata": {},
   "outputs": [],
   "source": [
    "asset_distribution = df['Event'].value_counts()\n",
    "plt.figure(figsize=(8, 6))\n",
    "plt.pie(asset_distribution, labels=asset_distribution.index, autopct='%1.1f%%', colors=['skyblue', 'lightcoral'])\n",
    "plt.title('Distribution of Charging Events')\n",
    "plt.show()\n"
   ]
  },
  {
   "cell_type": "code",
   "execution_count": null,
   "id": "f4968f10",
   "metadata": {},
   "outputs": [],
   "source": [
    "plt.figure(figsize=(8, 6))\n",
    "sns.histplot(df['TotalEnergy'], bins=20, kde=True)\n",
    "plt.title('Distribution of TotalEnergy')\n",
    "plt.xlabel('TotalEnergy')\n",
    "plt.ylabel('Count')\n",
    "plt.show()\n"
   ]
  },
  {
   "cell_type": "code",
   "execution_count": null,
   "id": "8e53221f",
   "metadata": {},
   "outputs": [],
   "source": [
    "df['Start_Date'] = pd.to_datetime(df['Start_Date'])\n",
    "df['Charging_Month'] = df['Start_Date'].dt.month\n",
    "charging_by_month = df['Charging_Month'].value_counts().sort_index()\n",
    "print(charging_by_month)"
   ]
  },
  {
   "cell_type": "code",
   "execution_count": null,
   "id": "80b4474b",
   "metadata": {},
   "outputs": [],
   "source": [
    "df['Start_Date'] = pd.to_datetime(df['Start_Date'])\n",
    "df['Charging_Month'] = df['Start_Date'].dt.month\n",
    "charging_by_month = df['Charging_Month'].value_counts().sort_index()\n",
    "\n",
    "plt.figure(figsize=(10, 6))\n",
    "charging_by_month.plot(kind='bar', color='skyblue')\n",
    "plt.title('Monthly Charging Distribution')\n",
    "plt.xlabel('Month')\n",
    "plt.ylabel('Number of People')\n",
    "plt.xticks(rotation=0)\n",
    "plt.show()"
   ]
  },
  {
   "cell_type": "code",
   "execution_count": null,
   "id": "452f9bc2",
   "metadata": {},
   "outputs": [],
   "source": [
    "df"
   ]
  },
  {
   "cell_type": "code",
   "execution_count": null,
   "id": "63953a31",
   "metadata": {},
   "outputs": [],
   "source": [
    "def create_station_id(row):\n",
    "    if pd.notna(row['Start_Date']) and pd.notna(row['Start_Time']):\n",
    "        return row['Start_Date'].strftime('%Y-%m-%d') + ' ' + row['Start_Time'].strftime('%H:%M:%S')\n",
    "    else:\n",
    "        return 'Unknown'\n",
    "\n",
    "df['Station_ID'] = df.apply(create_station_id, axis=1)\n",
    "station_occupancy = df.groupby('Station_ID').size().reset_index(name='Occupancy')"
   ]
  },
  {
   "cell_type": "code",
   "execution_count": null,
   "id": "a52d365a",
   "metadata": {},
   "outputs": [],
   "source": [
    "df"
   ]
  },
  {
   "cell_type": "code",
   "execution_count": null,
   "id": "5eef18a9",
   "metadata": {},
   "outputs": [],
   "source": [
    "num_charging_stations = df['Station_ID'].nunique()\n",
    "print(f'The number of unique charging stations is: {num_charging_stations}')"
   ]
  },
  {
   "cell_type": "code",
   "execution_count": null,
   "id": "7ed4023b",
   "metadata": {},
   "outputs": [],
   "source": [
    "df['Start_Date'] = pd.to_datetime(df['Start_Date'])\n",
    "average_occupancy_per_month = df.groupby(df['Start_Date'].dt.month)['ConnectedTime'].mean()\n",
    "average_occupancy_per_month.plot(kind='bar')\n",
    "plt.xlabel('Month')\n",
    "plt.ylabel('Average Occupancy (hours)')\n",
    "plt.title('Average Charging Station Occupancy per Month')\n",
    "plt.xticks(rotation=0)\n",
    "plt.show()"
   ]
  },
  {
   "cell_type": "code",
   "execution_count": null,
   "id": "8d52b584",
   "metadata": {},
   "outputs": [],
   "source": [
    "charging_time_per_month = df.groupby('Charging_Month')['ChargeTime'].sum()\n",
    "plt.figure(figsize=(10, 6))\n",
    "sns.lineplot(x=charging_time_per_month.index, y=charging_time_per_month.values, marker='o')\n",
    "plt.xlabel('Month')\n",
    "plt.ylabel('Total Charging Time (hours)')\n",
    "plt.title('Distribution of Charging Time Over the Year')\n",
    "plt.xticks(range(1, 13))\n",
    "plt.grid(True)\n",
    "plt.show()"
   ]
  }
 ],
 "metadata": {
  "kernelspec": {
   "display_name": "Python 3 (ipykernel)",
   "language": "python",
   "name": "python3"
  },
  "language_info": {
   "codemirror_mode": {
    "name": "ipython",
    "version": 3
   },
   "file_extension": ".py",
   "mimetype": "text/x-python",
   "name": "python",
   "nbconvert_exporter": "python",
   "pygments_lexer": "ipython3",
   "version": "3.11.4"
  }
 },
 "nbformat": 4,
 "nbformat_minor": 5
}
